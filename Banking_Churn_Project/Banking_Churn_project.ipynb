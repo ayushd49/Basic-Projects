{
 "cells": [
  {
   "cell_type": "code",
   "execution_count": 1,
   "id": "infrared-moment",
   "metadata": {},
   "outputs": [],
   "source": [
    "# importing required libraries\n",
    "\n",
    "import numpy as np\n",
    "import pandas as pd\n",
    "import matplotlib.pyplot as plt\n",
    "import seaborn as sns \n",
    "from sklearn.model_selection import train_test_split\n",
    "from sklearn.metrics import confusion_matrix , classification_report,accuracy_score\n",
    "from sklearn.neural_network import MLPRegressor\n",
    "from sklearn.ensemble import RandomForestClassifier\n",
    "from sklearn.preprocessing import MinMaxScaler"
   ]
  },
  {
   "cell_type": "code",
   "execution_count": 2,
   "id": "bright-deficit",
   "metadata": {},
   "outputs": [
    {
     "data": {
      "text/html": [
       "<div>\n",
       "<style scoped>\n",
       "    .dataframe tbody tr th:only-of-type {\n",
       "        vertical-align: middle;\n",
       "    }\n",
       "\n",
       "    .dataframe tbody tr th {\n",
       "        vertical-align: top;\n",
       "    }\n",
       "\n",
       "    .dataframe thead th {\n",
       "        text-align: right;\n",
       "    }\n",
       "</style>\n",
       "<table border=\"1\" class=\"dataframe\">\n",
       "  <thead>\n",
       "    <tr style=\"text-align: right;\">\n",
       "      <th></th>\n",
       "      <th>RowNumber</th>\n",
       "      <th>CustomerId</th>\n",
       "      <th>Surname</th>\n",
       "      <th>CreditScore</th>\n",
       "      <th>Geography</th>\n",
       "      <th>Gender</th>\n",
       "      <th>Age</th>\n",
       "      <th>Tenure</th>\n",
       "      <th>Balance</th>\n",
       "      <th>NumOfProducts</th>\n",
       "      <th>HasCrCard</th>\n",
       "      <th>IsActiveMember</th>\n",
       "      <th>EstimatedSalary</th>\n",
       "      <th>Exited</th>\n",
       "    </tr>\n",
       "  </thead>\n",
       "  <tbody>\n",
       "    <tr>\n",
       "      <th>0</th>\n",
       "      <td>1</td>\n",
       "      <td>15634602</td>\n",
       "      <td>Hargrave</td>\n",
       "      <td>619</td>\n",
       "      <td>France</td>\n",
       "      <td>Female</td>\n",
       "      <td>42</td>\n",
       "      <td>2</td>\n",
       "      <td>0.00</td>\n",
       "      <td>1</td>\n",
       "      <td>1</td>\n",
       "      <td>1</td>\n",
       "      <td>101348.88</td>\n",
       "      <td>1</td>\n",
       "    </tr>\n",
       "    <tr>\n",
       "      <th>1</th>\n",
       "      <td>2</td>\n",
       "      <td>15647311</td>\n",
       "      <td>Hill</td>\n",
       "      <td>608</td>\n",
       "      <td>Spain</td>\n",
       "      <td>Female</td>\n",
       "      <td>41</td>\n",
       "      <td>1</td>\n",
       "      <td>83807.86</td>\n",
       "      <td>1</td>\n",
       "      <td>0</td>\n",
       "      <td>1</td>\n",
       "      <td>112542.58</td>\n",
       "      <td>0</td>\n",
       "    </tr>\n",
       "    <tr>\n",
       "      <th>2</th>\n",
       "      <td>3</td>\n",
       "      <td>15619304</td>\n",
       "      <td>Onio</td>\n",
       "      <td>502</td>\n",
       "      <td>France</td>\n",
       "      <td>Female</td>\n",
       "      <td>42</td>\n",
       "      <td>8</td>\n",
       "      <td>159660.80</td>\n",
       "      <td>3</td>\n",
       "      <td>1</td>\n",
       "      <td>0</td>\n",
       "      <td>113931.57</td>\n",
       "      <td>1</td>\n",
       "    </tr>\n",
       "    <tr>\n",
       "      <th>3</th>\n",
       "      <td>4</td>\n",
       "      <td>15701354</td>\n",
       "      <td>Boni</td>\n",
       "      <td>699</td>\n",
       "      <td>France</td>\n",
       "      <td>Female</td>\n",
       "      <td>39</td>\n",
       "      <td>1</td>\n",
       "      <td>0.00</td>\n",
       "      <td>2</td>\n",
       "      <td>0</td>\n",
       "      <td>0</td>\n",
       "      <td>93826.63</td>\n",
       "      <td>0</td>\n",
       "    </tr>\n",
       "  </tbody>\n",
       "</table>\n",
       "</div>"
      ],
      "text/plain": [
       "   RowNumber  CustomerId   Surname  CreditScore Geography  Gender  Age  \\\n",
       "0          1    15634602  Hargrave          619    France  Female   42   \n",
       "1          2    15647311      Hill          608     Spain  Female   41   \n",
       "2          3    15619304      Onio          502    France  Female   42   \n",
       "3          4    15701354      Boni          699    France  Female   39   \n",
       "\n",
       "   Tenure    Balance  NumOfProducts  HasCrCard  IsActiveMember  \\\n",
       "0       2       0.00              1          1               1   \n",
       "1       1   83807.86              1          0               1   \n",
       "2       8  159660.80              3          1               0   \n",
       "3       1       0.00              2          0               0   \n",
       "\n",
       "   EstimatedSalary  Exited  \n",
       "0        101348.88       1  \n",
       "1        112542.58       0  \n",
       "2        113931.57       1  \n",
       "3         93826.63       0  "
      ]
     },
     "execution_count": 2,
     "metadata": {},
     "output_type": "execute_result"
    }
   ],
   "source": [
    "# loading the dataset into dataframe \n",
    "\n",
    "df = pd.read_csv('Churn_Modelling.csv')\n",
    "df.head(4)"
   ]
  },
  {
   "cell_type": "code",
   "execution_count": 3,
   "id": "recreational-blackberry",
   "metadata": {},
   "outputs": [],
   "source": [
    "# dropping irrelevant columns\n",
    "\n",
    "df1 = df.drop(['RowNumber','CustomerId','Surname'],axis='columns')"
   ]
  },
  {
   "cell_type": "code",
   "execution_count": 4,
   "id": "prepared-labor",
   "metadata": {},
   "outputs": [
    {
     "data": {
      "text/plain": [
       "(10000, 11)"
      ]
     },
     "execution_count": 4,
     "metadata": {},
     "output_type": "execute_result"
    }
   ],
   "source": [
    "df1.shape"
   ]
  },
  {
   "cell_type": "markdown",
   "id": "acquired-guitar",
   "metadata": {},
   "source": [
    "## Exploratory Data Analysis"
   ]
  },
  {
   "cell_type": "code",
   "execution_count": 5,
   "id": "natural-corporation",
   "metadata": {},
   "outputs": [
    {
     "data": {
      "image/png": "[encoded data removed]",
      "text/plain": [
       "<Figure size 1440x1440 with 5 Axes>"
      ]
     },
     "metadata": {
      "needs_background": "light"
     },
     "output_type": "display_data"
    },
    {
     "data": {
      "text/plain": [
       "<Figure size 144x144 with 0 Axes>"
      ]
     },
     "metadata": {},
     "output_type": "display_data"
    },
    {
     "data": {
      "text/plain": [
       "<Figure size 144x144 with 0 Axes>"
      ]
     },
     "metadata": {},
     "output_type": "display_data"
    },
    {
     "data": {
      "text/plain": [
       "<Figure size 144x144 with 0 Axes>"
      ]
     },
     "metadata": {},
     "output_type": "display_data"
    },
    {
     "data": {
      "text/plain": [
       "<Figure size 144x144 with 0 Axes>"
      ]
     },
     "metadata": {},
     "output_type": "display_data"
    },
    {
     "data": {
      "text/plain": [
       "<Figure size 144x144 with 0 Axes>"
      ]
     },
     "metadata": {},
     "output_type": "display_data"
    }
   ],
   "source": [
    "# barplots for categorical data\n",
    "\n",
    "column = ['Geography','Gender','NumOfProducts','HasCrCard','IsActiveMember']\n",
    "fig=plt.figure(figsize=(20,20))\n",
    "j = 1\n",
    "for i in column :\n",
    "  ax=fig.add_subplot(5,5,j)\n",
    "  j = j + 1\n",
    "  plt.figure(figsize=(2, 2))\n",
    "  sns.barplot(x=i,y='Exited',data=df1,ci=None,ax=ax)\n",
    "  # ax.set_title(i+\" Distribution\",color='DarkRed')\n",
    "  # ax.set_yscale('log')\n",
    "  fig.tight_layout()  \n",
    "plt.show()"
   ]
  },
  {
   "cell_type": "markdown",
   "id": "hawaiian-trauma",
   "metadata": {},
   "source": [
    "### Hist Plots for continuos Data"
   ]
  },
  {
   "cell_type": "code",
   "execution_count": 6,
   "id": "turned-casino",
   "metadata": {},
   "outputs": [
    {
     "data": {
      "text/plain": [
       "<AxesSubplot:xlabel='Tenure', ylabel='Count'>"
      ]
     },
     "execution_count": 6,
     "metadata": {},
     "output_type": "execute_result"
    },
    {
     "data": {
      "image/png": "[encoded data removed]",
      "text/plain": [
       "<Figure size 432x288 with 1 Axes>"
      ]
     },
     "metadata": {
      "needs_background": "light"
     },
     "output_type": "display_data"
    }
   ],
   "source": [
    "sns.histplot(df1, x='Tenure', bins = range(0,20), hue='Exited')"
   ]
  },
  {
   "cell_type": "code",
   "execution_count": 7,
   "id": "powerful-fisher",
   "metadata": {},
   "outputs": [
    {
     "data": {
      "text/plain": [
       "<AxesSubplot:xlabel='CreditScore', ylabel='Count'>"
      ]
     },
     "execution_count": 7,
     "metadata": {},
     "output_type": "execute_result"
    },
    {
     "data": {
      "image/png": "[encoded data removed]",
      "text/plain": [
       "<Figure size 432x288 with 1 Axes>"
      ]
     },
     "metadata": {
      "needs_background": "light"
     },
     "output_type": "display_data"
    }
   ],
   "source": [
    "sns.histplot(df1, x='CreditScore', bins = range(400,900,50), hue='Exited')"
   ]
  },
  {
   "cell_type": "code",
   "execution_count": 8,
   "id": "norman-digit",
   "metadata": {},
   "outputs": [
    {
     "data": {
      "text/plain": [
       "<AxesSubplot:xlabel='Age', ylabel='Count'>"
      ]
     },
     "execution_count": 8,
     "metadata": {},
     "output_type": "execute_result"
    },
    {
     "data": {
      "image/png": "[encoded data removed]",
      "text/plain": [
       "<Figure size 432x288 with 1 Axes>"
      ]
     },
     "metadata": {
      "needs_background": "light"
     },
     "output_type": "display_data"
    }
   ],
   "source": [
    "sns.histplot(df1, x='Age', bins = range(10,100,5), hue='Exited')"
   ]
  },
  {
   "cell_type": "code",
   "execution_count": 9,
   "id": "radical-portrait",
   "metadata": {},
   "outputs": [
    {
     "data": {
      "text/plain": [
       "100090.239881"
      ]
     },
     "execution_count": 9,
     "metadata": {},
     "output_type": "execute_result"
    }
   ],
   "source": [
    "df1['EstimatedSalary'].mean()"
   ]
  },
  {
   "cell_type": "code",
   "execution_count": 10,
   "id": "accessory-bonus",
   "metadata": {},
   "outputs": [
    {
     "data": {
      "text/plain": [
       "<AxesSubplot:xlabel='EstimatedSalary', ylabel='Count'>"
      ]
     },
     "execution_count": 10,
     "metadata": {},
     "output_type": "execute_result"
    },
    {
     "data": {
      "image/png": "[encoded data removed]",
      "text/plain": [
       "<Figure size 432x288 with 1 Axes>"
      ]
     },
     "metadata": {
      "needs_background": "light"
     },
     "output_type": "display_data"
    }
   ],
   "source": [
    "sns.histplot(df1, x='EstimatedSalary', bins = range(10090,190090,5000), hue='Exited')"
   ]
  },
  {
   "cell_type": "markdown",
   "id": "persistent-wheat",
   "metadata": {},
   "source": [
    "## Data Preprocessing"
   ]
  },
  {
   "cell_type": "code",
   "execution_count": 11,
   "id": "vital-chile",
   "metadata": {},
   "outputs": [],
   "source": [
    "# performing one-hot encoding for the categorical features having text\n",
    "\n",
    "cols_to_encode = ['Geography','Gender']\n",
    "df2 = pd.get_dummies(df1,cols_to_encode,drop_first=True)"
   ]
  },
  {
   "cell_type": "code",
   "execution_count": 12,
   "id": "affecting-peter",
   "metadata": {},
   "outputs": [],
   "source": [
    "# scaling data using MinMaxScaler\n",
    "\n",
    "scaler = MinMaxScaler()\n",
    "cols_to_scale = ['Age','Tenure','Balance','EstimatedSalary','CreditScore']\n",
    "df2[cols_to_scale] = scaler.fit_transform(df1[cols_to_scale])"
   ]
  },
  {
   "cell_type": "code",
   "execution_count": 13,
   "id": "previous-machine",
   "metadata": {},
   "outputs": [
    {
     "data": {
      "text/html": [
       "<div>\n",
       "<style scoped>\n",
       "    .dataframe tbody tr th:only-of-type {\n",
       "        vertical-align: middle;\n",
       "    }\n",
       "\n",
       "    .dataframe tbody tr th {\n",
       "        vertical-align: top;\n",
       "    }\n",
       "\n",
       "    .dataframe thead th {\n",
       "        text-align: right;\n",
       "    }\n",
       "</style>\n",
       "<table border=\"1\" class=\"dataframe\">\n",
       "  <thead>\n",
       "    <tr style=\"text-align: right;\">\n",
       "      <th></th>\n",
       "      <th>CreditScore</th>\n",
       "      <th>Age</th>\n",
       "      <th>Tenure</th>\n",
       "      <th>Balance</th>\n",
       "      <th>NumOfProducts</th>\n",
       "      <th>HasCrCard</th>\n",
       "      <th>IsActiveMember</th>\n",
       "      <th>EstimatedSalary</th>\n",
       "      <th>Exited</th>\n",
       "      <th>Geography_Germany</th>\n",
       "      <th>Geography_Spain</th>\n",
       "      <th>Gender_Male</th>\n",
       "    </tr>\n",
       "  </thead>\n",
       "  <tbody>\n",
       "    <tr>\n",
       "      <th>0</th>\n",
       "      <td>0.538</td>\n",
       "      <td>0.324324</td>\n",
       "      <td>0.2</td>\n",
       "      <td>0.000000</td>\n",
       "      <td>1</td>\n",
       "      <td>1</td>\n",
       "      <td>1</td>\n",
       "      <td>0.506735</td>\n",
       "      <td>1</td>\n",
       "      <td>0</td>\n",
       "      <td>0</td>\n",
       "      <td>0</td>\n",
       "    </tr>\n",
       "    <tr>\n",
       "      <th>1</th>\n",
       "      <td>0.516</td>\n",
       "      <td>0.310811</td>\n",
       "      <td>0.1</td>\n",
       "      <td>0.334031</td>\n",
       "      <td>1</td>\n",
       "      <td>0</td>\n",
       "      <td>1</td>\n",
       "      <td>0.562709</td>\n",
       "      <td>0</td>\n",
       "      <td>0</td>\n",
       "      <td>1</td>\n",
       "      <td>0</td>\n",
       "    </tr>\n",
       "    <tr>\n",
       "      <th>2</th>\n",
       "      <td>0.304</td>\n",
       "      <td>0.324324</td>\n",
       "      <td>0.8</td>\n",
       "      <td>0.636357</td>\n",
       "      <td>3</td>\n",
       "      <td>1</td>\n",
       "      <td>0</td>\n",
       "      <td>0.569654</td>\n",
       "      <td>1</td>\n",
       "      <td>0</td>\n",
       "      <td>0</td>\n",
       "      <td>0</td>\n",
       "    </tr>\n",
       "    <tr>\n",
       "      <th>3</th>\n",
       "      <td>0.698</td>\n",
       "      <td>0.283784</td>\n",
       "      <td>0.1</td>\n",
       "      <td>0.000000</td>\n",
       "      <td>2</td>\n",
       "      <td>0</td>\n",
       "      <td>0</td>\n",
       "      <td>0.469120</td>\n",
       "      <td>0</td>\n",
       "      <td>0</td>\n",
       "      <td>0</td>\n",
       "      <td>0</td>\n",
       "    </tr>\n",
       "    <tr>\n",
       "      <th>4</th>\n",
       "      <td>1.000</td>\n",
       "      <td>0.337838</td>\n",
       "      <td>0.2</td>\n",
       "      <td>0.500246</td>\n",
       "      <td>1</td>\n",
       "      <td>1</td>\n",
       "      <td>1</td>\n",
       "      <td>0.395400</td>\n",
       "      <td>0</td>\n",
       "      <td>0</td>\n",
       "      <td>1</td>\n",
       "      <td>0</td>\n",
       "    </tr>\n",
       "  </tbody>\n",
       "</table>\n",
       "</div>"
      ],
      "text/plain": [
       "   CreditScore       Age  Tenure   Balance  NumOfProducts  HasCrCard  \\\n",
       "0        0.538  0.324324     0.2  0.000000              1          1   \n",
       "1        0.516  0.310811     0.1  0.334031              1          0   \n",
       "2        0.304  0.324324     0.8  0.636357              3          1   \n",
       "3        0.698  0.283784     0.1  0.000000              2          0   \n",
       "4        1.000  0.337838     0.2  0.500246              1          1   \n",
       "\n",
       "   IsActiveMember  EstimatedSalary  Exited  Geography_Germany  \\\n",
       "0               1         0.506735       1                  0   \n",
       "1               1         0.562709       0                  0   \n",
       "2               0         0.569654       1                  0   \n",
       "3               0         0.469120       0                  0   \n",
       "4               1         0.395400       0                  0   \n",
       "\n",
       "   Geography_Spain  Gender_Male  \n",
       "0                0            0  \n",
       "1                1            0  \n",
       "2                0            0  \n",
       "3                0            0  \n",
       "4                1            0  "
      ]
     },
     "execution_count": 13,
     "metadata": {},
     "output_type": "execute_result"
    }
   ],
   "source": [
    "df2.head()"
   ]
  },
  {
   "cell_type": "code",
   "execution_count": 14,
   "id": "velvet-mainland",
   "metadata": {},
   "outputs": [],
   "source": [
    "X = df2.drop(['Exited'],axis=1)"
   ]
  },
  {
   "cell_type": "code",
   "execution_count": 15,
   "id": "revised-stockholm",
   "metadata": {},
   "outputs": [],
   "source": [
    "Y = df2['Exited']"
   ]
  },
  {
   "cell_type": "code",
   "execution_count": 16,
   "id": "variable-monroe",
   "metadata": {},
   "outputs": [],
   "source": [
    "# splitting data for train test sets\n",
    "\n",
    "X_train , X_test , Y_train , Y_test = train_test_split(X,Y,random_state=8,test_size=0.3,stratify=Y)"
   ]
  },
  {
   "cell_type": "markdown",
   "id": "written-moldova",
   "metadata": {},
   "source": [
    "## Neural Network creation"
   ]
  },
  {
   "cell_type": "code",
   "execution_count": 17,
   "id": "economic-tooth",
   "metadata": {},
   "outputs": [
    {
     "name": "stdout",
     "output_type": "stream",
     "text": [
      "Step  1  of  9  Layer1:  10  Accuracy 0.8067\n",
      "Best Accuracy Score 0.8067  Best Layer1:  10  do Step: 1\n",
      "Step  2  of  9  Layer1:  20  Accuracy 0.8083\n",
      "Best Accuracy Score 0.8083  Best Layer1:  20  do Step: 2\n",
      "Step  3  of  9  Layer1:  30  Accuracy 0.8037\n",
      "Best Accuracy Score 0.8083  Best Layer1:  20  do Step: 2\n",
      "Step  4  of  9  Layer1:  40  Accuracy 0.8047\n",
      "Best Accuracy Score 0.8083  Best Layer1:  20  do Step: 2\n",
      "Step  5  of  9  Layer1:  50  Accuracy 0.8113\n",
      "Best Accuracy Score 0.8113  Best Layer1:  50  do Step: 5\n",
      "Step  6  of  9  Layer1:  60  Accuracy 0.806\n",
      "Best Accuracy Score 0.8113  Best Layer1:  50  do Step: 5\n",
      "Step  7  of  9  Layer1:  70  Accuracy 0.8093\n",
      "Best Accuracy Score 0.8113  Best Layer1:  50  do Step: 5\n",
      "Step  8  of  9  Layer1:  80  Accuracy 0.8113\n",
      "Best Accuracy Score 0.8113  Best Layer1:  50  do Step: 5\n",
      "Step  9  of  9  Layer1:  90  Accuracy 0.8133\n",
      "Best Accuracy Score 0.8133  Best Layer1:  90  do Step: 9\n"
     ]
    }
   ],
   "source": [
    "# Multi MLP Generator - 1 Layer\n",
    "training_accuracy = []\n",
    "testing_accuracy = []\n",
    "Layer1 = range(10,100,10)\n",
    "LayersComb = len(Layer1)\n",
    "Step=0\n",
    "score=0\n",
    "\n",
    "for i in Layer1 :\n",
    "    mlp = MLPRegressor(hidden_layer_sizes=(i),activation=\"logistic\" ,random_state=1, max_iter=2000).fit(X_train, Y_train)\n",
    "    Y_pred_train = mlp.predict(X_train).round()\n",
    "    training_accuracy.append(accuracy_score(Y_train, Y_pred_train))\n",
    "    Y_pred_test = mlp.predict(X_test).round()\n",
    "    acc_score = accuracy_score(Y_test,Y_pred_test)\n",
    "    testing_accuracy.append(acc_score)\n",
    "    Step = Step + 1\n",
    "    if score < acc_score:\n",
    "        score = acc_score\n",
    "        best_Layer1 = i\n",
    "        best_Step = Step\n",
    "    \n",
    "    print('Step ', Step, ' of ', LayersComb, ' Layer1: ', i,' Accuracy', acc_score.round(4))    \n",
    "    print('Best Accuracy Score', score.round(4), ' Best Layer1: ', best_Layer1, ' do Step:', best_Step)"
   ]
  },
  {
   "cell_type": "code",
   "execution_count": 18,
   "id": "confused-nerve",
   "metadata": {},
   "outputs": [
    {
     "data": {
      "text/plain": [
       "<AxesSubplot:>"
      ]
     },
     "execution_count": 18,
     "metadata": {},
     "output_type": "execute_result"
    },
    {
     "data": {
      "image/png": "[encoded data removed]",
      "text/plain": [
       "<Figure size 432x288 with 1 Axes>"
      ]
     },
     "metadata": {
      "needs_background": "light"
     },
     "output_type": "display_data"
    }
   ],
   "source": [
    "sns.lineplot(data=[training_accuracy,testing_accuracy])"
   ]
  },
  {
   "cell_type": "code",
   "execution_count": null,
   "id": "civilian-princess",
   "metadata": {},
   "outputs": [
    {
     "name": "stdout",
     "output_type": "stream",
     "text": [
      "Step  1  of  9  Layer1:  10  Layer2:  10  Accuracy 0.8213\n",
      "Best Accuracy Score 0.8213  Best Layer1:  10  Best Layer2:  10  do Step: 1\n",
      "Step  2  of  9  Layer1:  10  Layer2:  30  Accuracy 0.8433\n",
      "Best Accuracy Score 0.8433  Best Layer1:  10  Best Layer2:  30  do Step: 2\n",
      "Step  3  of  9  Layer1:  10  Layer2:  50  Accuracy 0.849\n",
      "Best Accuracy Score 0.849  Best Layer1:  10  Best Layer2:  50  do Step: 3\n",
      "Step  4  of  9  Layer1:  30  Layer2:  10  Accuracy 0.8117\n",
      "Best Accuracy Score 0.849  Best Layer1:  10  Best Layer2:  50  do Step: 3\n",
      "Step  5  of  9  Layer1:  30  Layer2:  30  Accuracy 0.812\n",
      "Best Accuracy Score 0.849  Best Layer1:  10  Best Layer2:  50  do Step: 3\n",
      "Step  6  of  9  Layer1:  30  Layer2:  50  Accuracy 0.852\n",
      "Best Accuracy Score 0.852  Best Layer1:  30  Best Layer2:  50  do Step: 6\n",
      "Step  7  of  9  Layer1:  50  Layer2:  10  Accuracy 0.848\n",
      "Best Accuracy Score 0.852  Best Layer1:  30  Best Layer2:  50  do Step: 6\n"
     ]
    }
   ],
   "source": [
    "training_accuracy = []\n",
    "testing_accuracy = []\n",
    "Layer1 = range(10,70,20)\n",
    "Layer2 = range(10,70,20)\n",
    "step=0\n",
    "score=0\n",
    "LayerComb = len(Layer1) * len(Layer2)\n",
    "\n",
    "for i in Layer1:\n",
    "    for j in Layer2:\n",
    "        mlp = MLPRegressor(hidden_layer_sizes=(i,j),activation='logistic',random_state=1, max_iter=2000).fit(X_train,Y_train)\n",
    "        Y_pred_train = mlp.predict(X_train).round()\n",
    "        training_accuracy.append(accuracy_score(Y_train, Y_pred_train))\n",
    "        Y_pred_test = mlp.predict(X_test).round()\n",
    "        acc_score = accuracy_score(Y_test,Y_pred_test)\n",
    "        testing_accuracy.append(acc_score)\n",
    "        step = step + 1\n",
    "        if score < acc_score:\n",
    "            score = acc_score\n",
    "            best_Layer1 = i\n",
    "            best_Layer2 = j\n",
    "            best_Step = step\n",
    "        print('Step ', step, ' of ', LayerComb, ' Layer1: ', i,' Layer2: ', j,' Accuracy', acc_score.round(4))    \n",
    "        print('Best Accuracy Score', score.round(4), ' Best Layer1: ', best_Layer1,' Best Layer2: ', best_Layer2, ' do Step:', best_Step)\n",
    "        "
   ]
  },
  {
   "cell_type": "code",
   "execution_count": null,
   "id": "checked-floor",
   "metadata": {},
   "outputs": [],
   "source": [
    "sns.lineplot(data=[training_accuracy,testing_accuracy])"
   ]
  },
  {
   "cell_type": "code",
   "execution_count": null,
   "id": "identified-heath",
   "metadata": {},
   "outputs": [],
   "source": [
    "# a network with 30 nuerons in layer1 and 50 nuerons in layer2\n",
    "\n",
    "final_mlp = MLPRegressor(hidden_layer_sizes=(30,50),activation='logistic',random_state=1, max_iter=2000).fit(X_train,Y_train)"
   ]
  },
  {
   "cell_type": "code",
   "execution_count": null,
   "id": "accomplished-charlotte",
   "metadata": {},
   "outputs": [],
   "source": [
    "# storing predicted result for X_test in Y_test_pred\n",
    "\n",
    "Y_test_pred = final_mlp.predict(X_test).round()"
   ]
  },
  {
   "cell_type": "code",
   "execution_count": null,
   "id": "incorporate-subdivision",
   "metadata": {},
   "outputs": [],
   "source": [
    "accuracy_score(Y_test,Y_test_pred)"
   ]
  },
  {
   "cell_type": "code",
   "execution_count": null,
   "id": "certified-batch",
   "metadata": {},
   "outputs": [],
   "source": [
    "# confusion matrix and classification report\n",
    "\n",
    "cm = confusion_matrix(Y_test,Y_test_pred)\n",
    "plt.figure(figsize=(5,5))\n",
    "sns.heatmap(cm,annot=True,fmt='d')\n",
    "plt.xlabel('Predicted')\n",
    "plt.ylabel('Truth')"
   ]
  },
  {
   "cell_type": "code",
   "execution_count": null,
   "id": "quick-angle",
   "metadata": {},
   "outputs": [],
   "source": [
    "print(classification_report(Y_test,Y_test_pred))"
   ]
  },
  {
   "cell_type": "code",
   "execution_count": null,
   "id": "sharing-globe",
   "metadata": {},
   "outputs": [],
   "source": [
    "training_accuracy = []\n",
    "testing_accuracy = []\n",
    "best_score = 0\n",
    "best_estimator = 0\n",
    "step = 0\n",
    "estimators = range(10,110,10)\n",
    "total_ = len(estimators)\n",
    "for i in estimators:\n",
    "    model = RandomForestClassifier(n_estimators=i)\n",
    "    model.fit(X_train,Y_train)\n",
    "    training_accuracy.append(model.score(X_train,Y_train))\n",
    "    acc_score = model.score(X_test,Y_test) \n",
    "    testing_accuracy.append(acc_score)\n",
    "    step = step + 1\n",
    "    if best_score < acc_score:\n",
    "        best_score = acc_score\n",
    "        best_step = step\n",
    "        best_estimator = i\n",
    "    print('Step ', step, ' of ', total_, ' n_estimaotrs: ', i,' Accuracy', acc_score.round(4))    \n",
    "    print('Best Accuracy Score', best_score.round(4), ' Best Estimators: ', best_estimator, ' do Step:', best_step)"
   ]
  },
  {
   "cell_type": "code",
   "execution_count": null,
   "id": "dynamic-slope",
   "metadata": {},
   "outputs": [],
   "source": [
    "# Random Forest Classifier with estimators = 60\n",
    "\n",
    "final_rfc = RandomForestClassifier(n_estimators=60).fit(X_train,Y_train)"
   ]
  },
  {
   "cell_type": "code",
   "execution_count": null,
   "id": "mature-greeting",
   "metadata": {},
   "outputs": [],
   "source": [
    "final_rfc.score(X_test,Y_test)"
   ]
  },
  {
   "cell_type": "code",
   "execution_count": null,
   "id": "comparable-mandate",
   "metadata": {},
   "outputs": [],
   "source": [
    "Y_test_pred_rfc = final_rfc.predict(X_test)"
   ]
  },
  {
   "cell_type": "code",
   "execution_count": null,
   "id": "assisted-hamburg",
   "metadata": {},
   "outputs": [],
   "source": [
    "# confusion matrix and classification report\n",
    "\n",
    "cm = confusion_matrix(Y_test,Y_test_pred_rfc)\n",
    "plt.figure(figsize=(5,5))\n",
    "sns.heatmap(cm,annot=True,fmt='d')\n",
    "plt.xlabel('Predicted')\n",
    "plt.ylabel('Truth')"
   ]
  },
  {
   "cell_type": "code",
   "execution_count": null,
   "id": "supreme-hormone",
   "metadata": {},
   "outputs": [],
   "source": [
    "print(classification_report(Y_test,Y_test_pred_rfc))"
   ]
  },
  {
   "cell_type": "markdown",
   "id": "advance-brand",
   "metadata": {},
   "source": [
    "#### Accuracy and classification report for Random Forest Classifier with 60 estimators are better than the neural net with (30,50) as layer size"
   ]
  },
  {
   "cell_type": "code",
   "execution_count": null,
   "id": "meaning-semiconductor",
   "metadata": {},
   "outputs": [],
   "source": []
  }
 ],
 "metadata": {
  "kernelspec": {
   "display_name": "Python 3",
   "language": "python",
   "name": "python3"
  },
  "language_info": {
   "codemirror_mode": {
    "name": "ipython",
    "version": 3
   },
   "file_extension": ".py",
   "mimetype": "text/x-python",
   "name": "python",
   "nbconvert_exporter": "python",
   "pygments_lexer": "ipython3",
   "version": "3.8.5"
  }
 },
 "nbformat": 4,
 "nbformat_minor": 5
}
